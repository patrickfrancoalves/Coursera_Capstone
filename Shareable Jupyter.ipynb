{
 "cells": [
  {
   "cell_type": "markdown",
   "metadata": {},
   "source": [
    "<a href=\"https://www.linkedin.com/in/pat-franck/\"><img src = \"https://scholar.google.com.br/citations?view_op=view_photo&user=FUvUmpoAAAAJ&citpid=2\" width = 100, align = \"center\"></a>\n",
    "\n",
    "<h1 align=center><font size=5>Creating Shareable Jupyter Notebook</font></h1>"
   ]
  },
  {
   "cell_type": "markdown",
   "metadata": {},
   "source": [
    "<h2>Table of content</h2>\n",
    "\n",
    "<div class=\"alert alert-block alert-info\" style=\"margin-top: 20px\">\n",
    "<ul>\n",
    "    <li><a href=\"#write_markdown\">Write some markdown to explain that this notebook</a></li>\n",
    "    <li><a href=\"#import_pandas\">Import the pandas library as pd</a></li>\n",
    "    <li><a href=\"#import_numpy\">Import the Numpy library as np</a></li>\n",
    "    <li><a href=\"#print_hello\">Print \"Hello Capstone Project Course\"!</a></li>\n",
    "</ul>\n",
    "\n",
    "</div>\n",
    " \n",
    "<hr>"
   ]
  },
  {
   "cell_type": "markdown",
   "metadata": {},
   "source": [
    "<h2 id=\"write_markdown\">1. Write some markdown to explain that this notebook</h2>"
   ]
  },
  {
   "cell_type": "markdown",
   "metadata": {},
   "source": [
    "### This exercise contains the following items:\n",
    "| Step                                               | Item |\n",
    "| -------------------------------------------------- | ---- |\n",
    "| Write some markdown to explain that this notebook  | 1    |\n",
    "| Import the pandas library as pd                    | 2    |\n",
    "| Import the Numpy library as np                     | 3    |\n",
    "| Print \"Hello Capstone Project Course\"!             | 4    |\n"
   ]
  },
  {
   "cell_type": "markdown",
   "metadata": {},
   "source": [
    "[Procrastinate this evaluation and checkout my linkedin profile](https://www.linkedin.com/in/pat-franck/)<img src = \"http://s2.glbimg.com/CDXEImpSWJlwKju4Zddbl79ltT0=/0x0:1123x842/695x521/s.glbimg.com/po/tt/f/original/2011/04/19/linke.jpg\" width = 200, align = \"center\"></a>"
   ]
  },
  {
   "cell_type": "markdown",
   "metadata": {},
   "source": [
    "<h2 id=\"import_pandas\">2. Import the pandas library as pd</h2>"
   ]
  },
  {
   "cell_type": "code",
   "execution_count": 3,
   "metadata": {},
   "outputs": [],
   "source": [
    "import pandas as pd"
   ]
  },
  {
   "cell_type": "markdown",
   "metadata": {},
   "source": [
    "<h2 id=\"import_numpy\">3. Import the Numpy library as np</h2>"
   ]
  },
  {
   "cell_type": "code",
   "execution_count": 4,
   "metadata": {},
   "outputs": [],
   "source": [
    "import numpy as np"
   ]
  },
  {
   "cell_type": "markdown",
   "metadata": {},
   "source": [
    "<h2 id=\"print_hello\">4. Print \"Hello Capstone Project Course\"!</h2>"
   ]
  },
  {
   "cell_type": "code",
   "execution_count": 5,
   "metadata": {},
   "outputs": [
    {
     "name": "stdout",
     "output_type": "stream",
     "text": [
      "Hello Capstone Project Course\n"
     ]
    }
   ],
   "source": [
    "print(\"Hello Capstone Project Course\")"
   ]
  }
 ],
 "metadata": {
  "kernelspec": {
   "display_name": "Python",
   "language": "python",
   "name": "conda-env-python-py"
  },
  "language_info": {
   "codemirror_mode": {
    "name": "ipython",
    "version": 3
   },
   "file_extension": ".py",
   "mimetype": "text/x-python",
   "name": "python",
   "nbconvert_exporter": "python",
   "pygments_lexer": "ipython3",
   "version": "3.6.7"
  }
 },
 "nbformat": 4,
 "nbformat_minor": 4
}
