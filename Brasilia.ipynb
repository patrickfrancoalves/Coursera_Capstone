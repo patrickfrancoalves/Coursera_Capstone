{
 "cells": [
  {
   "cell_type": "markdown",
   "metadata": {},
   "source": [
    "<a href=\"https://en.wikipedia.org/wiki/Bras%C3%ADlia\"><img src = \"https://www.jota.info/wp-content/uploads/2018/11/71a97b3fe90b01b307ae56f4a59e2dba.jpg\" width = 400, align = \"center\"></a>\n",
    "\n",
    "<h1 align=center><font size = 5>Using foursquare API to estimate per capita income in Brasilia neighborhoods</font></h1>"
   ]
  },
  {
   "cell_type": "markdown",
   "metadata": {},
   "source": [
    "# Introduction\n",
    "\n",
    "Brasília is the federal capital of Brazil. The city is located atop the Brazilian highlands in the center-western region and has the highest GDP per capita in Brazil. Even among major Latin American cities, Brasília has the highest GDP per capita. \n",
    "\n",
    "The local legislation treats the federal district as a unique city. As a consequence, official statistics are not segmented by neighborhood nor the so-called administrative regions within the federal district. For instance, there are no criminality records or per capita income segmented by neighborhood.\n",
    "\n",
    "We attempt to produce useful information segmented by the neighborhoods of Brasilia. \n",
    "From the beginning, the neighborhood is an informal concept in Brasilia, since the government uses the concept of administrative regions. Administrative Regions שרק "
   ]
  },
  {
   "cell_type": "markdown",
   "metadata": {},
   "source": [
    "## Table of Contents\n",
    "\n",
    "<div class=\"alert alert-block alert-info\" style=\"margin-top: 20px\">\n",
    "\n",
    "<font size = 3>\n",
    "\n",
    "1. <a href=\"#item1\">The Lack of Segmented Information Problem</a>\n",
    "\n",
    "2. <a href=\"#item2\">Brasilia's neighborhoods from GuiaMais.com.br</a>\n",
    "\n",
    "3. <a href=\"#item3\">Using Geopy to Get Brasilia neighborhood informations</a>\n",
    "\n",
    "4. <a href=\"#item4\">Storing in pandas dataset</a>\n",
    "    \n",
    "5. <a href=\"#item5\">Map of Brasilia using Folium</a>\n",
    "    \n",
    "6. <a href=\"#item6\">More to come</a>\n",
    "    \n",
    "</font>\n",
    "</div>"
   ]
  },
  {
   "cell_type": "code",
   "execution_count": 2,
   "metadata": {},
   "outputs": [
    {
     "name": "stdout",
     "output_type": "stream",
     "text": [
      "Solving environment: done\n",
      "\n",
      "\n",
      "==> WARNING: A newer version of conda exists. <==\n",
      "  current version: 4.5.11\n",
      "  latest version: 4.7.12\n",
      "\n",
      "Please update conda by running\n",
      "\n",
      "    $ conda update -n base -c defaults conda\n",
      "\n",
      "\n",
      "\n",
      "## Package Plan ##\n",
      "\n",
      "  environment location: /home/jupyterlab/conda/envs/python\n",
      "\n",
      "  added / updated specs: \n",
      "    - geopy\n",
      "\n",
      "\n",
      "The following packages will be downloaded:\n",
      "\n",
      "    package                    |            build\n",
      "    ---------------------------|-----------------\n",
      "    geopy-1.20.0               |             py_0          57 KB  conda-forge\n",
      "    geographiclib-1.50         |             py_0          34 KB  conda-forge\n",
      "    certifi-2019.9.11          |           py36_0         147 KB  conda-forge\n",
      "    ------------------------------------------------------------\n",
      "                                           Total:         238 KB\n",
      "\n",
      "The following NEW packages will be INSTALLED:\n",
      "\n",
      "    geographiclib: 1.50-py_0        conda-forge\n",
      "    geopy:         1.20.0-py_0      conda-forge\n",
      "\n",
      "The following packages will be UPDATED:\n",
      "\n",
      "    certifi:       2019.6.16-py36_1 conda-forge --> 2019.9.11-py36_0 conda-forge\n",
      "\n",
      "\n",
      "Downloading and Extracting Packages\n",
      "geopy-1.20.0         | 57 KB     | ##################################### | 100% \n",
      "geographiclib-1.50   | 34 KB     | ##################################### | 100% \n",
      "certifi-2019.9.11    | 147 KB    | ##################################### | 100% \n",
      "Preparing transaction: done\n",
      "Verifying transaction: done\n",
      "Executing transaction: done\n"
     ]
    }
   ],
   "source": [
    "#Install de required packages\n",
    "#! conda install -c anaconda beautifulsoup4 --yes\n",
    "! conda install -c conda-forge geopy --yes \n",
    "#! conda install -c anaconda lxml --yes\n",
    "#! conda install -c conda-forge geopy --yes "
   ]
  },
  {
   "cell_type": "markdown",
   "metadata": {},
   "source": [
    "## 1. The Lack of Segmented Information Problem"
   ]
  },
  {
   "cell_type": "markdown",
   "metadata": {},
   "source": [
    "Although we can say that Brasilia is a city and the Federal District is a state, officially they share the same borders. It's a state with only one city within its borders. Even though people use to group together Asa Sul, Asa Norte, Sudoeste, Noroeste, Lago Sul, Lago Norte, and Park Way and call only it Brasilia. It's an informal denomination that relies on personal taste and can change from people to people.\n",
    "\n",
    "The legislative design treats the federal district as a unique city. As a consequence, official statistics are not segmented by neighborhood or the so-called administrative regions within the federal district."
   ]
  },
  {
   "cell_type": "markdown",
   "metadata": {},
   "source": [
    "<img src = \"https://www.infoescola.com/wp-content/uploads/2011/08/mapa-distrito-federal.jpg\" width = 400, align = \"center\"></a>\n",
    "    "
   ]
  },
  {
   "cell_type": "markdown",
   "metadata": {},
   "source": [
    "Brazil's Federal District is a square-shaped territory within the borders of Goias state. That's why we got the local nickname \"goianos from the square\"\n",
    "Can you see the 'airplane' in the middle of the square? "
   ]
  },
  {
   "cell_type": "markdown",
   "metadata": {},
   "source": [
    "## 2.  Brasilia's neighborhoods from Guia Mais"
   ]
  },
  {
   "cell_type": "markdown",
   "metadata": {},
   "source": [
    "## Methodology\n",
    "1. I got the list of neighborhoods using the informal list provided by [Guia Mais website](https://www.guiamais.com.br/bairros/brasilia-df).\n",
    "2. I store the names of the neighborhoods in a list, and passed it to geopy query.\n",
    "3. I stored the latitudes, longitudes, postal codes and other information in a pandas dataframe.\n",
    "4. I intend to use the bsb dataframe to construct indicators such as the average price spends in restaurants, numbers of cafes, the number of pizza places, price of a pizza, neighborhood importance, to construct a proxy for per capita income by neighborhood.\n"
   ]
  },
  {
   "cell_type": "markdown",
   "metadata": {},
   "source": [
    "## 3.  Using Geopy to Get Brasilia neighborhood informations"
   ]
  },
  {
   "cell_type": "code",
   "execution_count": 13,
   "metadata": {},
   "outputs": [
    {
     "name": "stdout",
     "output_type": "stream",
     "text": [
      "Libraries imported.\n"
     ]
    }
   ],
   "source": [
    "import requests # library to handle requests\n",
    "import pandas as pd # library for data analsysis\n",
    "import numpy as np # library to handle data in a vectorized manner\n",
    "import random # library for random number generation\n",
    "#from bs4 import BeautifulSoup\n",
    "\n",
    "from geopy.geocoders import Nominatim\n",
    "\n",
    "# libraries for displaying images\n",
    "from IPython.display import Image \n",
    "from IPython.core.display import HTML \n",
    "    \n",
    "# tranforming json file into a pandas dataframe library\n",
    "from pandas.io.json import json_normalize\n",
    "\n",
    "#!conda install -c conda-forge folium=0.5.0 --yes\n",
    "import folium # plotting library\n",
    "\n",
    "print('Libraries imported.')"
   ]
  },
  {
   "cell_type": "code",
   "execution_count": 4,
   "metadata": {},
   "outputs": [],
   "source": [
    "# Storing the neighborhood (bairros) in a list"
   ]
  },
  {
   "cell_type": "code",
   "execution_count": 14,
   "metadata": {},
   "outputs": [],
   "source": [
    "bairros = ['Águas Claras','Asa Norte','Asa Sul','Brazlândia','Candangolândia','Ceilândia','Ceilândia Sul','Cruzeiro','Delegado Lago Ii','Eixo Monumental','Gama',\n",
    "'Guará','Guará I','Lago Norte','Lago Sul','Núcleo Bandeirante','Núcleo Rural Lago Oeste','Octogonal','Sudoeste','Paranoá','Park Way',\n",
    "'Planaltina','Ponte Alta','Recanto das Emas','Região dos Lagos','Residencial Itaipu','Riacho Fundo','Samambaia','Santa Maria','São Sebastião',\n",
    "'Taguatinga','Setor de Habitaco Lago Norte','Setor Econômico de Sobradinho','Setor Habitacional Samambaia','Vicente Pires',\n",
    "'Setor M Ceilândia','Monte D Armas Planaltina','Noroeste','Setor Norte Gama','Setor Norte Vila E Guará','Setor Oeste Guará',\n",
    "'Setor Oficinas Asa Norte','Arniqueiras','SIA','Sobradinho','Águas Claras Sul','Taguatinga Centro','Taguatinga Sul','Vila Planalto',\n",
    "'Vila São José Vicente Pires','Zona Indústrial Guará']\n"
   ]
  },
  {
   "cell_type": "markdown",
   "metadata": {},
   "source": [
    "## 4. Storing in pandas dataset"
   ]
  },
  {
   "cell_type": "code",
   "execution_count": 16,
   "metadata": {},
   "outputs": [
    {
     "name": "stdout",
     "output_type": "stream",
     "text": [
      "Neighborhood Águas Claras has latitude -15.8419933 and longitude -48.0281208 \n",
      "Neighborhood Asa Norte has latitude -15.7627976 and longitude -47.883951 \n",
      "Neighborhood Asa Sul has latitude -15.8169455 and longitude -47.900049 \n",
      "Neighborhood Brazlândia has latitude -15.6808898 and longitude -48.1942621 \n",
      "Neighborhood Candangolândia has latitude -15.8536609 and longitude -47.9493775 \n",
      "Neighborhood Ceilândia has latitude -15.8173391 and longitude -48.1045766 \n",
      "Neighborhood Ceilândia Sul has latitude -15.8287665 and longitude -48.0971053 \n",
      "Neighborhood Cruzeiro has latitude -15.7908774 and longitude -47.9373916 \n",
      "Neighborhood Delegado Lago Ii has latitude -15.7908774 and longitude -47.9373916 \n",
      "Neighborhood Eixo Monumental has latitude -15.7842364 and longitude -47.9162597 \n",
      "Neighborhood Gama has latitude -16.0170857 and longitude -48.0653054 \n",
      "Neighborhood Guará has latitude -15.8235629 and longitude -47.9768165 \n",
      "Neighborhood Guará I has latitude -15.8235629 and longitude -47.9768165 \n",
      "Neighborhood Lago Norte has latitude -15.7342351 and longitude -47.8641578 \n",
      "Neighborhood Lago Sul has latitude -15.8391817 and longitude -47.8755338 \n",
      "Neighborhood Núcleo Bandeirante has latitude -15.871003 and longitude -47.9677375 \n",
      "Neighborhood Núcleo Rural Lago Oeste has latitude -15.871003 and longitude -47.9677375 \n",
      "Neighborhood Octogonal has latitude -15.7779739 and longitude -47.90939985 \n",
      "Neighborhood Sudoeste has latitude -16.6953711 and longitude -49.2977603 \n",
      "Neighborhood Paranoá has latitude -15.77544 and longitude -47.7797631 \n",
      "Neighborhood Park Way has latitude -15.9027386 and longitude -47.963322 \n",
      "Neighborhood Planaltina has latitude -15.6181947 and longitude -47.6555703 \n",
      "Neighborhood Ponte Alta has latitude -19.7143233 and longitude -47.6837033054421 \n",
      "Neighborhood Recanto das Emas has latitude -15.9025481 and longitude -48.0607778 \n",
      "Neighborhood Região dos Lagos has latitude -20.5642126 and longitude -48.5847559119164 \n",
      "Neighborhood Residencial Itaipu has latitude -22.82234795 and longitude -43.0067722558765 \n",
      "Neighborhood Riacho Fundo has latitude -15.8939101 and longitude -48.0249836 \n",
      "Neighborhood Samambaia has latitude -15.8769989 and longitude -48.0881004 \n",
      "Neighborhood Santa Maria has latitude -16.0171229 and longitude -48.0131328 \n",
      "Neighborhood São Sebastião has latitude -15.9033774 and longitude -47.7717736 \n",
      "Neighborhood Taguatinga has latitude -15.8335277 and longitude -48.0565716 \n",
      "Neighborhood Setor de Habitaco Lago Norte has latitude -15.8335277 and longitude -48.0565716 \n",
      "Neighborhood Setor Econômico de Sobradinho has latitude -15.8335277 and longitude -48.0565716 \n",
      "Neighborhood Setor Habitacional Samambaia has latitude -15.8335277 and longitude -48.0565716 \n",
      "Neighborhood Vicente Pires has latitude -15.8135709 and longitude -48.0156045 \n",
      "Neighborhood Setor M Ceilândia has latitude -15.8012126 and longitude -48.1295394 \n",
      "Neighborhood Monte D Armas Planaltina has latitude -15.8012126 and longitude -48.1295394 \n",
      "Neighborhood Noroeste has latitude -26.1347819 and longitude 25.6546729 \n",
      "Neighborhood Setor Norte Gama has latitude -26.1347819 and longitude 25.6546729 \n",
      "Neighborhood Setor Norte Vila E Guará has latitude -26.1347819 and longitude 25.6546729 \n",
      "Neighborhood Setor Oeste Guará has latitude -26.1347819 and longitude 25.6546729 \n",
      "Neighborhood Setor Oficinas Asa Norte has latitude -26.1347819 and longitude 25.6546729 \n",
      "Neighborhood Arniqueiras has latitude -15.8367108 and longitude -48.0170637 \n",
      "Neighborhood SIA has latitude -15.8061818 and longitude -47.9591582 \n",
      "Neighborhood Sobradinho has latitude -15.6500533 and longitude -47.7848449 \n",
      "Neighborhood Águas Claras Sul has latitude -12.5176518 and longitude -41.4831029 \n",
      "Neighborhood Taguatinga Centro has latitude -15.8335277 and longitude -48.0565716 \n",
      "Neighborhood Taguatinga Sul has latitude -15.8518516 and longitude -48.0419816 \n",
      "Neighborhood Vila Planalto has latitude -15.79268 and longitude -47.850277 \n",
      "Neighborhood Vila São José Vicente Pires has latitude -15.8038234 and longitude -48.0492438813291 \n",
      "Neighborhood Zona Indústrial Guará has latitude -15.8517364 and longitude -47.9588219880347 \n"
     ]
    }
   ],
   "source": [
    "bsb = pd.DataFrame({'bairro': [], 'latitude': [], 'longitude': [], 'type': [], 'postcode':[], 'importance':[] })\n",
    "       \n",
    "geolocator = Nominatim(user_agent=\"foursquare_agent\")\n",
    "\n",
    "for bairro in bairros:\n",
    "    bairro2 = bairro + ', DF'\n",
    "    location = geolocator.geocode(bairro2)\n",
    "    try:\n",
    "        lat = location.latitude\n",
    "        lng = location.longitude\n",
    "        type = location.raw['type']\n",
    "        zipc = location.raw['display_name'].split()\n",
    "        impo = location.raw['importance']\n",
    "        \n",
    "        bsb = bsb.append({'bairro': bairro, 'latitude': lat, 'longitude': lng, 'type': type, 'postcode': zipc[-2], 'importance': impo }, ignore_index=True)\n",
    "    except:\n",
    "        pass\n",
    "    print('Neighborhood {0} has latitude {1} and longitude {2} '.format(bairro, lat, lng))"
   ]
  },
  {
   "cell_type": "code",
   "execution_count": 20,
   "metadata": {},
   "outputs": [],
   "source": [
    "bsb['postcode']=bsb['postcode'].str.replace('Centro-Oeste','').replace(',','').replace('-','')"
   ]
  },
  {
   "cell_type": "code",
   "execution_count": 21,
   "metadata": {},
   "outputs": [
    {
     "data": {
      "text/html": [
       "<div>\n",
       "<style scoped>\n",
       "    .dataframe tbody tr th:only-of-type {\n",
       "        vertical-align: middle;\n",
       "    }\n",
       "\n",
       "    .dataframe tbody tr th {\n",
       "        vertical-align: top;\n",
       "    }\n",
       "\n",
       "    .dataframe thead th {\n",
       "        text-align: right;\n",
       "    }\n",
       "</style>\n",
       "<table border=\"1\" class=\"dataframe\">\n",
       "  <thead>\n",
       "    <tr style=\"text-align: right;\">\n",
       "      <th></th>\n",
       "      <th>bairro</th>\n",
       "      <th>latitude</th>\n",
       "      <th>longitude</th>\n",
       "      <th>type</th>\n",
       "      <th>postcode</th>\n",
       "      <th>importance</th>\n",
       "    </tr>\n",
       "  </thead>\n",
       "  <tbody>\n",
       "    <tr>\n",
       "      <td>0</td>\n",
       "      <td>Águas Claras</td>\n",
       "      <td>-15.841993</td>\n",
       "      <td>-48.028121</td>\n",
       "      <td>city</td>\n",
       "      <td></td>\n",
       "      <td>0.577761</td>\n",
       "    </tr>\n",
       "    <tr>\n",
       "      <td>1</td>\n",
       "      <td>Asa Norte</td>\n",
       "      <td>-15.762798</td>\n",
       "      <td>-47.883951</td>\n",
       "      <td>suburb</td>\n",
       "      <td>70744-020,</td>\n",
       "      <td>0.560000</td>\n",
       "    </tr>\n",
       "    <tr>\n",
       "      <td>2</td>\n",
       "      <td>Asa Sul</td>\n",
       "      <td>-15.816945</td>\n",
       "      <td>-47.900049</td>\n",
       "      <td>suburb</td>\n",
       "      <td>70347090,</td>\n",
       "      <td>0.560000</td>\n",
       "    </tr>\n",
       "    <tr>\n",
       "      <td>3</td>\n",
       "      <td>Brazlândia</td>\n",
       "      <td>-15.680890</td>\n",
       "      <td>-48.194262</td>\n",
       "      <td>administrative</td>\n",
       "      <td></td>\n",
       "      <td>0.539662</td>\n",
       "    </tr>\n",
       "    <tr>\n",
       "      <td>4</td>\n",
       "      <td>Candangolândia</td>\n",
       "      <td>-15.853661</td>\n",
       "      <td>-47.949377</td>\n",
       "      <td>administrative</td>\n",
       "      <td></td>\n",
       "      <td>0.515802</td>\n",
       "    </tr>\n",
       "  </tbody>\n",
       "</table>\n",
       "</div>"
      ],
      "text/plain": [
       "           bairro   latitude  longitude            type    postcode  \\\n",
       "0    Águas Claras -15.841993 -48.028121            city               \n",
       "1       Asa Norte -15.762798 -47.883951          suburb  70744-020,   \n",
       "2         Asa Sul -15.816945 -47.900049          suburb   70347090,   \n",
       "3      Brazlândia -15.680890 -48.194262  administrative               \n",
       "4  Candangolândia -15.853661 -47.949377  administrative               \n",
       "\n",
       "   importance  \n",
       "0    0.577761  \n",
       "1    0.560000  \n",
       "2    0.560000  \n",
       "3    0.539662  \n",
       "4    0.515802  "
      ]
     },
     "execution_count": 21,
     "metadata": {},
     "output_type": "execute_result"
    }
   ],
   "source": [
    "bsb.head()"
   ]
  },
  {
   "cell_type": "code",
   "execution_count": 26,
   "metadata": {},
   "outputs": [
    {
     "data": {
      "text/plain": [
       "latitude    -15.762798\n",
       "longitude   -47.883951\n",
       "Name: 1, dtype: float64"
      ]
     },
     "execution_count": 26,
     "metadata": {},
     "output_type": "execute_result"
    }
   ],
   "source": [
    "bsb[['latitude','longitude','bairro']].iloc[1]"
   ]
  },
  {
   "cell_type": "code",
   "execution_count": 30,
   "metadata": {},
   "outputs": [],
   "source": [
    "latitude = bsb[['latitude','longitude']].iloc[1][0]\n",
    "longitude = bsb[['latitude','longitude']].iloc[1][1]"
   ]
  },
  {
   "cell_type": "markdown",
   "metadata": {},
   "source": [
    "## 5.  Map of Brasilia using Folium"
   ]
  },
  {
   "cell_type": "code",
   "execution_count": 31,
   "metadata": {},
   "outputs": [
    {
     "data": {
      "text/html": [
       "<div style=\"width:100%;\"><div style=\"position:relative;width:100%;height:0;padding-bottom:60%;\"><iframe src=\"data:text/html;charset=utf-8;base64,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\" style=\"position:absolute;width:100%;height:100%;left:0;top:0;border:none !important;\" allowfullscreen webkitallowfullscreen mozallowfullscreen></iframe></div></div>"
      ],
      "text/plain": [
       "<folium.folium.Map at 0x7f39cf5d44a8>"
      ]
     },
     "metadata": {},
     "output_type": "display_data"
    }
   ],
   "source": [
    "\n",
    "map_newyork = folium.Map(location=[latitude, longitude], zoom_start=10)\n",
    "\n",
    "# add markers to map\n",
    "for lat, lng, neighborhood in zip(bsb['latitude'], bsb['longitude'], bsb['bairro']):\n",
    "    label = '{}'.format(neighborhood)\n",
    "    label = folium.Popup(label, parse_html=True)\n",
    "    folium.CircleMarker(\n",
    "        [lat, lng],\n",
    "        radius=5,\n",
    "        popup=label,\n",
    "        color='blue',\n",
    "        fill=True,\n",
    "        fill_color='#3186cc',\n",
    "        fill_opacity=0.7,\n",
    "        parse_html=False).add_to(map_newyork)  \n",
    "    \n",
    "display(map_newyork)"
   ]
  },
  {
   "cell_type": "code",
   "execution_count": 32,
   "metadata": {},
   "outputs": [],
   "source": [
    "map_newyork.save(\"bsb.png\")"
   ]
  },
  {
   "cell_type": "markdown",
   "metadata": {},
   "source": [
    "## 5. More to come"
   ]
  },
  {
   "cell_type": "markdown",
   "metadata": {},
   "source": [
    "Now its time to use foursquare API to get relevant information by Neighborhood"
   ]
  },
  {
   "cell_type": "code",
   "execution_count": 111,
   "metadata": {},
   "outputs": [
    {
     "name": "stdout",
     "output_type": "stream",
     "text": [
      "Your credentails:\n",
      "CLIENT_ID: USC23TI2Y3K0WLFYXPJUXXEJVZ4NUEMT3CR5T3ZCNTJ3IB55\n",
      "CLIENT_SECRET:U2QVNANSIRP4OBT5MWECVSUP0VR1PVEQLDKY5S4HY4CNCP0S\n"
     ]
    }
   ],
   "source": [
    "CLIENT_ID = 'USC23TI2Y3K0WLFYXPJUXXEJVZ4NUEMT3CR5T3ZCNTJ3IB55' # your Foursquare ID\n",
    "CLIENT_SECRET = 'U2QVNANSIRP4OBT5MWECVSUP0VR1PVEQLDKY5S4HY4CNCP0S' # your Foursquare Secret\n",
    "VERSION = '20191013'\n",
    "LIMIT = 50\n",
    "print('Patrick credentails:')\n",
    "print('CLIENT_ID: ' + CLIENT_ID)\n",
    "print('CLIENT_SECRET:' + CLIENT_SECRET)"
   ]
  },
  {
   "cell_type": "code",
   "execution_count": 33,
   "metadata": {},
   "outputs": [],
   "source": [
    "import json \n",
    "import requests \n",
    "from pandas.io.json import json_normalize \n",
    "CLIENT_ID = 'V53MHPBBL23EVUFTF31HTKJAFRJIK2QL1WJURTZ3ARRFF3KE'\n",
    "CLIENT_SECRET = 'G5Z0ALDAAKEOPESPXKBZPXNB2TIEJKGWM33ZGSBCNW0VGW0T'\n",
    "VERSION = '20191018' \n",
    "LIMIT = 100"
   ]
  },
  {
   "cell_type": "code",
   "execution_count": 34,
   "metadata": {},
   "outputs": [],
   "source": [
    "def getNearbyVenues(names, latitudes, longitudes, radius=500):\n",
    "    \n",
    "    venues_list=[]\n",
    "    for name, lat, lng in zip(names, latitudes, longitudes):\n",
    "            \n",
    "        # create the API request URL\n",
    "        url = 'https://api.foursquare.com/v2/venues/explore?&client_id={}&client_secret={}&v={}&ll={},{}&radius={}&limit={}'.format(\n",
    "            CLIENT_ID, \n",
    "            CLIENT_SECRET, \n",
    "            VERSION, \n",
    "            lat, \n",
    "            lng, \n",
    "            radius, \n",
    "            LIMIT)\n",
    "            \n",
    "        # make the GET request\n",
    "        results = requests.get(url).json()[\"response\"]['groups'][0]['items']\n",
    "        \n",
    "        # return only relevant information for each nearby venue\n",
    "        venues_list.append([(\n",
    "            name, \n",
    "            lat, \n",
    "            lng, \n",
    "            v['venue']['name'], \n",
    "            v['venue']['location']['lat'], \n",
    "            v['venue']['location']['lng'],  \n",
    "            v['venue']['categories'][0]['name']) for v in results])\n",
    "\n",
    "    nearby_venues = pd.DataFrame([item for venue_list in venues_list for item in venue_list])\n",
    "    nearby_venues.columns = [\n",
    "        'PostalCode', 'Latitude', 'Longitude', 'Venue', 'Venue Latitude', 'Venue Longitude', 'Venue Category']\n",
    "    \n",
    "    return(nearby_venues)"
   ]
  },
  {
   "cell_type": "code",
   "execution_count": 35,
   "metadata": {},
   "outputs": [],
   "source": [
    "venues = getNearbyVenues(\n",
    "    names=bsb['bairro'],\n",
    "    latitudes=bsb['latitude'],\n",
    "    longitudes=bsb['longitude'] )"
   ]
  },
  {
   "cell_type": "code",
   "execution_count": 36,
   "metadata": {},
   "outputs": [
    {
     "name": "stdout",
     "output_type": "stream",
     "text": [
      "(762, 7)\n"
     ]
    },
    {
     "data": {
      "text/html": [
       "<div>\n",
       "<style scoped>\n",
       "    .dataframe tbody tr th:only-of-type {\n",
       "        vertical-align: middle;\n",
       "    }\n",
       "\n",
       "    .dataframe tbody tr th {\n",
       "        vertical-align: top;\n",
       "    }\n",
       "\n",
       "    .dataframe thead th {\n",
       "        text-align: right;\n",
       "    }\n",
       "</style>\n",
       "<table border=\"1\" class=\"dataframe\">\n",
       "  <thead>\n",
       "    <tr style=\"text-align: right;\">\n",
       "      <th></th>\n",
       "      <th>PostalCode</th>\n",
       "      <th>Latitude</th>\n",
       "      <th>Longitude</th>\n",
       "      <th>Venue</th>\n",
       "      <th>Venue Latitude</th>\n",
       "      <th>Venue Longitude</th>\n",
       "      <th>Venue Category</th>\n",
       "    </tr>\n",
       "  </thead>\n",
       "  <tbody>\n",
       "    <tr>\n",
       "      <td>0</td>\n",
       "      <td>Águas Claras</td>\n",
       "      <td>-15.841993</td>\n",
       "      <td>-48.028121</td>\n",
       "      <td>Ahi Poke Bar</td>\n",
       "      <td>-15.841719</td>\n",
       "      <td>-48.027315</td>\n",
       "      <td>Hawaiian Restaurant</td>\n",
       "    </tr>\n",
       "    <tr>\n",
       "      <td>1</td>\n",
       "      <td>Águas Claras</td>\n",
       "      <td>-15.841993</td>\n",
       "      <td>-48.028121</td>\n",
       "      <td>Me Gusta Sandubaria Artesanal</td>\n",
       "      <td>-15.840484</td>\n",
       "      <td>-48.029573</td>\n",
       "      <td>Food Truck</td>\n",
       "    </tr>\n",
       "    <tr>\n",
       "      <td>2</td>\n",
       "      <td>Águas Claras</td>\n",
       "      <td>-15.841993</td>\n",
       "      <td>-48.028121</td>\n",
       "      <td>Casero Bistrô</td>\n",
       "      <td>-15.843929</td>\n",
       "      <td>-48.029564</td>\n",
       "      <td>Restaurant</td>\n",
       "    </tr>\n",
       "    <tr>\n",
       "      <td>3</td>\n",
       "      <td>Águas Claras</td>\n",
       "      <td>-15.841993</td>\n",
       "      <td>-48.028121</td>\n",
       "      <td>Adorável Café</td>\n",
       "      <td>-15.843863</td>\n",
       "      <td>-48.029299</td>\n",
       "      <td>Café</td>\n",
       "    </tr>\n",
       "    <tr>\n",
       "      <td>4</td>\n",
       "      <td>Águas Claras</td>\n",
       "      <td>-15.841993</td>\n",
       "      <td>-48.028121</td>\n",
       "      <td>Bonnapan</td>\n",
       "      <td>-15.839519</td>\n",
       "      <td>-48.026673</td>\n",
       "      <td>Bakery</td>\n",
       "    </tr>\n",
       "  </tbody>\n",
       "</table>\n",
       "</div>"
      ],
      "text/plain": [
       "     PostalCode   Latitude  Longitude                          Venue  \\\n",
       "0  Águas Claras -15.841993 -48.028121                   Ahi Poke Bar   \n",
       "1  Águas Claras -15.841993 -48.028121  Me Gusta Sandubaria Artesanal   \n",
       "2  Águas Claras -15.841993 -48.028121                  Casero Bistrô   \n",
       "3  Águas Claras -15.841993 -48.028121                  Adorável Café   \n",
       "4  Águas Claras -15.841993 -48.028121                       Bonnapan   \n",
       "\n",
       "   Venue Latitude  Venue Longitude       Venue Category  \n",
       "0      -15.841719       -48.027315  Hawaiian Restaurant  \n",
       "1      -15.840484       -48.029573           Food Truck  \n",
       "2      -15.843929       -48.029564           Restaurant  \n",
       "3      -15.843863       -48.029299                 Café  \n",
       "4      -15.839519       -48.026673               Bakery  "
      ]
     },
     "execution_count": 36,
     "metadata": {},
     "output_type": "execute_result"
    }
   ],
   "source": [
    "print(venues.shape)\n",
    "venues.head()"
   ]
  },
  {
   "cell_type": "markdown",
   "metadata": {},
   "source": [
    "Finish for while\n",
    "\n",
    "More to come...\n",
    "\n",
    "More to come...\n",
    "\n",
    "More to come...\n",
    "\n",
    "More to come...\n",
    "\n"
   ]
  },
  {
   "cell_type": "code",
   "execution_count": 39,
   "metadata": {},
   "outputs": [],
   "source": [
    "# keep only columns that include venue name, and anything that is associated with location\n",
    "filtered_columns = ['name', 'categories'] + [col for col in bsb.columns if col.startswith('location.')] + ['id']\n",
    "bsb_filtered = bsb.loc[:, filtered_columns]\n",
    "\n",
    "# function that extracts the category of the venue\n",
    "def get_category_type(row):\n",
    "    try:\n",
    "        categories_list = row['categories']\n",
    "    except:\n",
    "        categories_list = row['venue.categories']\n",
    "        \n",
    "    if len(categories_list) == 0:\n",
    "        return None\n",
    "    else:\n",
    "        return categories_list[0]['name']\n",
    "\n",
    "# filter the category for each row\n",
    "dataframe_filtered['categories'] = dataframe_filtered.apply(get_category_type, axis=1)\n",
    "\n",
    "# clean column names by keeping only last term\n",
    "dataframe_filtered.columns = [column.split('.')[-1] for column in dataframe_filtered.columns]\n",
    "\n",
    "dataframe_filtered"
   ]
  },
  {
   "cell_type": "code",
   "execution_count": 40,
   "metadata": {},
   "outputs": [],
   "source": [
    "bsb2 = bsb_filtered[['lat','lng','formattedAddress']]"
   ]
  },
  {
   "cell_type": "code",
   "execution_count": 41,
   "metadata": {},
   "outputs": [],
   "source": [
    "bsb2.head()"
   ]
  },
  {
   "cell_type": "code",
   "execution_count": 42,
   "metadata": {},
   "outputs": [],
   "source": [
    "bsb2.shape"
   ]
  }
 ],
 "metadata": {
  "kernelspec": {
   "display_name": "Python",
   "language": "python",
   "name": "conda-env-python-py"
  },
  "language_info": {
   "codemirror_mode": {
    "name": "ipython",
    "version": 3
   },
   "file_extension": ".py",
   "mimetype": "text/x-python",
   "name": "python",
   "nbconvert_exporter": "python",
   "pygments_lexer": "ipython3",
   "version": "3.6.7"
  }
 },
 "nbformat": 4,
 "nbformat_minor": 4
}
